{
 "cells": [
  {
   "cell_type": "code",
   "execution_count": null,
   "metadata": {},
   "outputs": [],
   "source": [
    "import pyarrow.feather as feather\n",
    "from concurrent.futures import ThreadPoolExecutor\n",
    "import pathlib, os, pickle, time, base64, uuid,sys\n",
    "import numpy as np\n",
    "from tqdm import tqdm\n",
    "\n",
    "def load_pickle(thisPickle):\n",
    "    with open(str(thisPickle), 'rb') as handle:\n",
    "        batch_features = pickle.load(handle)\n",
    "    return batch_features.reshape(-1, 4096)\n",
    "\n",
    "def load_pickle_filesList(thisPickle):\n",
    "    with open(str(thisPickle), 'rb') as handle:\n",
    "        batch_elems = pickle.load(handle)\n",
    "    return batch_elems"
   ]
  },
  {
   "attachments": {},
   "cell_type": "markdown",
   "metadata": {},
   "source": [
    "Let's first import our most recent checkpoint - a clustered set of 600,000 images."
   ]
  },
  {
   "cell_type": "code",
   "execution_count": null,
   "metadata": {},
   "outputs": [],
   "source": [
    "pickleFolder = pathlib.Path(\"faiss/600k\")\n",
    "feat_pickles = pickleFolder.rglob('features*.pickle')\n",
    "list_of_pickles =  [str(p) for p in feat_pickles]\n",
    "\n",
    "with ThreadPoolExecutor() as executor:\n",
    "    features_list = list(tqdm(executor.map(load_pickle, list_of_pickles), total=len(list_of_pickles), desc=\"Loading Pickles\"))\n",
    "\n",
    "print(f\"concatenating features\")\n",
    "features = np.concatenate(features_list, axis=0)\n",
    "print(f\"{features.shape[0]} features loaded\")\n"
   ]
  },
  {
   "attachments": {},
   "cell_type": "markdown",
   "metadata": {},
   "source": [
    "We'll then cluster another 100,000 using the same API and the same settings to get the \"real\" group to which this image should belong"
   ]
  },
  {
   "attachments": {},
   "cell_type": "markdown",
   "metadata": {},
   "source": [
    "Then we'll implement a FAISS database of the first 600,000 and then use this to predict the destination of the additional 100,000 images:"
   ]
  },
  {
   "attachments": {},
   "cell_type": "markdown",
   "metadata": {},
   "source": [
    "Comparing the two we see that the \"correct\" group was predicted x% of the time\n",
    "Getting the groups for all 700,000 took x seconds, while predicting the additional 100,000 groups took y seconds. Of course as the problem scales we may have issues with VRAM or similar, but for now x..."
   ]
  }
 ],
 "metadata": {
  "language_info": {
   "name": "python"
  },
  "orig_nbformat": 4
 },
 "nbformat": 4,
 "nbformat_minor": 2
}
