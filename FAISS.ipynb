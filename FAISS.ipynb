{
 "cells": [
  {
   "attachments": {},
   "cell_type": "markdown",
   "metadata": {},
   "source": [
    "Let's first import our most recent checkpoint - a clustered set of 600,000 images."
   ]
  },
  {
   "cell_type": "code",
   "execution_count": null,
   "metadata": {},
   "outputs": [],
   "source": []
  },
  {
   "attachments": {},
   "cell_type": "markdown",
   "metadata": {},
   "source": [
    "We'll then cluster another 100,000 using the same API and the same settings to get the \"real\" group to which this image should belong"
   ]
  },
  {
   "attachments": {},
   "cell_type": "markdown",
   "metadata": {},
   "source": [
    "Then we'll implement a FAISS database of the first 600,000 and then use this to predict the destination of the additional 100,000 images:"
   ]
  },
  {
   "attachments": {},
   "cell_type": "markdown",
   "metadata": {},
   "source": [
    "Comparing the two we see that the \"correct\" group was predicted x% of the time\n",
    "Getting the groups for all 700,000 took x seconds, while predicting the additional 100,000 groups took y seconds. Of course as the problem scales we may have issues with VRAM or similar, but for now x..."
   ]
  }
 ],
 "metadata": {
  "language_info": {
   "name": "python"
  },
  "orig_nbformat": 4
 },
 "nbformat": 4,
 "nbformat_minor": 2
}
